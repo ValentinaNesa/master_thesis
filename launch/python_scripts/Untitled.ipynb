{
 "cells": [
  {
   "cell_type": "code",
   "execution_count": 2,
   "metadata": {},
   "outputs": [
    {
     "name": "stdout",
     "output_type": "stream",
     "text": [
      "2020-01-14 09:52:56,103 - climada - DEBUG - Loading default config file: /Users/zeliestalhanske/anaconda3/climada_python-1.2.5/climada/conf/defaults.conf\n"
     ]
    }
   ],
   "source": [
    "import numpy as np\n",
    "from scipy import sparse\n",
    "import pickle\n",
    "from ast import literal_eval\n",
    "\n",
    "import sys\n",
    "sys.path.append('../../src/impact_calculation')\n",
    "sys.path.append('../../src/write_entities')\n",
    "sys.path.append('../../src/util/')\n",
    "\n",
    "from impact_monte_carlo_parallel import impact_monte_carlo\n"
   ]
  },
  {
   "cell_type": "code",
   "execution_count": 5,
   "metadata": {},
   "outputs": [
    {
     "data": {
      "text/plain": [
       "1"
      ]
     },
     "execution_count": 5,
     "metadata": {},
     "output_type": "execute_result"
    }
   ],
   "source": [
    "int(literal_eval('1'))"
   ]
  }
 ],
 "metadata": {
  "kernelspec": {
   "display_name": "Python 3",
   "language": "python",
   "name": "python3"
  },
  "language_info": {
   "codemirror_mode": {
    "name": "ipython",
    "version": 3
   },
   "file_extension": ".py",
   "mimetype": "text/x-python",
   "name": "python",
   "nbconvert_exporter": "python",
   "pygments_lexer": "ipython3",
   "version": "3.7.3"
  }
 },
 "nbformat": 4,
 "nbformat_minor": 2
}
