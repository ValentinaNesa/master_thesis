{
 "cells": [
  {
   "cell_type": "markdown",
   "metadata": {},
   "source": [
    "## Show results - Test area (Zürich)"
   ]
  },
  {
   "cell_type": "code",
   "execution_count": 1,
   "metadata": {},
   "outputs": [
    {
     "name": "stdout",
     "output_type": "stream",
     "text": [
      "2020-07-28 15:18:18,645 - climada - DEBUG - Loading default config file: C:\\Users\\valen\\Documents\\GitHub\\climada_python\\climada\\conf\\defaults.conf\n"
     ]
    }
   ],
   "source": [
    "import numpy as np\n",
    "import pandas as pd\n",
    "#from pandas import DataFrame\n",
    "import matplotlib.pyplot as plt\n",
    "import matplotlib.colors as colors\n",
    "\n",
    "%matplotlib inline\n",
    "import pickle\n",
    "#import palettable (is not working...)\n",
    "from scipy.sparse import csr_matrix, vstack\n",
    "from scipy.optimize import curve_fit\n",
    "import sys \n",
    "from netCDF4 import num2date, date2num\n",
    "import xarray as xr\n",
    "from netCDF4 import Dataset\n",
    "\n",
    "sys.path.append('../../src/util')\n",
    "sys.path.append('../../src/write_entities')\n",
    "\n",
    "from climada.engine import Impact\n",
    "from climada.entity import Exposures\n",
    "from climada.hazard import Hazard\n",
    "\n",
    "from stacked_grouped_barplot import plot_clustered_stacked\n",
    "from stacked_grouped_barplot_error import plot_clustered_stacked_with_error\n",
    "from define_exposures import call_exposures\n",
    "from shapefile_masks import vector_shapefile_mask\n",
    "\n",
    "fig_dir = '../figures/'"
   ]
  },
  {
   "cell_type": "markdown",
   "metadata": {},
   "source": [
    "## Damage cost for each scenario, year and labor type"
   ]
  },
  {
   "cell_type": "code",
   "execution_count": 2,
   "metadata": {},
   "outputs": [],
   "source": [
    "#First we import and open the pickle file containing a dictionnary of the losses. \n",
    "#The dictionnary is a nested dictionnary, with the first layer being the different scenarios, \n",
    "#the second the years. For each scenario and each year, there is a panda dataframe \n",
    "#with the 4 types of exposures as columns, according to the level of physical activity \n",
    "#of the labor performed (the different exposures).\n",
    "#The rows of the panda dataframe correspond to the output of each Monte Carlo run.\n",
    "\n",
    "pickle_in = \\\n",
    "open('../../output/impact_cantons/loss_all_age_groups_1mc_all_uncertainties_Zürich.pickle','rb')\n",
    "loss_ZH= pickle.load(pickle_in)  \n",
    "\n",
    "# Add a column to each dataframe with the sum of all exposures for each monte carlo.\n",
    "for s_ in loss_ZH:\n",
    "    for y_ in loss_ZH[s_]:     \n",
    "        loss_ZH[s_][y_]['total'] \\\n",
    "        = loss_ZH[s_][y_][list(loss_ZH[s_][y_].columns)].sum(axis=1)   \n",
    "        \n",
    "RCPs = {'RCP26':'RCP2.6','RCP45':'RCP4.5', 'RCP85':'RCP8.5'} #to get the correct name in the plots"
   ]
  },
  {
   "cell_type": "code",
   "execution_count": 3,
   "metadata": {},
   "outputs": [
    {
     "data": {
      "text/plain": [
       "Text(0, 0.5, 'Annual Heat-related Deaths [#]')"
      ]
     },
     "execution_count": 3,
     "metadata": {},
     "output_type": "execute_result"
    },
    {
     "data": {
      "image/png": "[encoded data removed]",
      "text/plain": [
       "<Figure size 432x288 with 1 Axes>"
      ]
     },
     "metadata": {
      "needs_background": "light"
     },
     "output_type": "display_data"
    },
    {
     "data": {
      "image/png": "[encoded data removed]",
      "text/plain": [
       "<Figure size 432x288 with 1 Axes>"
      ]
     },
     "metadata": {
      "needs_background": "light"
     },
     "output_type": "display_data"
    }
   ],
   "source": [
    "#We make a new dictionnary of the scenarios, with the different types of exposures\n",
    "#as columns and the years in the rows. Then, the clustered stacked barplots can be called, \n",
    "#with the dictionnary of panda median as input, where the rows of each dataframe correspond to the grouping \n",
    "#criteria (by year), the columns to the stacks (the labor types) \n",
    "#and the dictionnary keys to the hatches (the scenario).  \n",
    "\n",
    "median = {}\n",
    "minimums = {}\n",
    "maximums = {}\n",
    "\n",
    "for s_ in loss_ZH:\n",
    "    median[RCPs[s_]] = pd.DataFrame()#dataframe containing the median realization for the different exposures\n",
    "    maximums[RCPs[s_]] = pd.DataFrame() #dataframe containing the 95th percentile realization for the different exposures\n",
    "    minimums[RCPs[s_]] = pd.DataFrame()#dataframe containing the 5th percentile realization for the different exposures\n",
    "    \n",
    "    for y_ in loss_ZH[s_]:\n",
    "        median[RCPs[s_]][y_] = ((loss_ZH[s_][y_].iloc[:,0:-1]).median())/1e6  #don't need the total here \n",
    "        maximums[RCPs[s_]][y_] = ((loss_ZH[s_][y_].iloc[:,0:-1]).quantile(0.95))/1e6 \n",
    "        minimums[RCPs[s_]][y_] = ((loss_ZH[s_][y_].iloc[:,0:-1]).quantile(0.05))/1e6\n",
    "    \n",
    "    median[RCPs[s_]] = median[RCPs[s_]].transpose()\n",
    "    maximums[RCPs[s_]] = maximums[RCPs[s_]].transpose()\n",
    "    minimums[RCPs[s_]] = minimums[RCPs[s_]].transpose()\n",
    "\n",
    "fig, ax = plt.subplots()\n",
    "plot_clustered_stacked(median,title = '',color= ['lightblue','royalblue'])\n",
    "plt.ylabel('Annual Heat-related Deaths [#]')\n",
    "ax.ticklabel_format(style='plain')\n",
    "\n",
    "#plt.savefig(''.join([fig_dir,'loss_ch/predicted_loss_2020_2065.pdf']),bbox_inches='tight')\n",
    "\n",
    "fig, ax = plt.subplots()\n",
    "plot_clustered_stacked_with_error(median,minimums,maximums,color= ['lightblue','royalblue'])\n",
    "plt.ylabel('Annual Heat-related Deaths [#]')\n",
    "\n",
    "#plt.savefig(''.join([fig_dir,'loss_ch/predicted_loss_2020_2065_werror.pdf']),bbox_inches='tight')\n"
   ]
  },
  {
   "cell_type": "code",
   "execution_count": null,
   "metadata": {},
   "outputs": [],
   "source": []
  }
 ],
 "metadata": {
  "kernelspec": {
   "display_name": "Python 3",
   "language": "python",
   "name": "python3"
  },
  "language_info": {
   "codemirror_mode": {
    "name": "ipython",
    "version": 3
   },
   "file_extension": ".py",
   "mimetype": "text/x-python",
   "name": "python",
   "nbconvert_exporter": "python",
   "pygments_lexer": "ipython3",
   "version": "3.7.3"
  }
 },
 "nbformat": 4,
 "nbformat_minor": 4
}
