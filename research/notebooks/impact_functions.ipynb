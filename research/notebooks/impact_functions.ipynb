{
 "cells": [
  {
   "cell_type": "markdown",
   "metadata": {},
   "source": [
    "This code estimates impact functions from excel tables that contain points from different empirical studies.\n",
    "\n",
    "An weighted average of the study based on my subjectif judgement is obtained. Next, the impact_functions_estimate a random impact function based on a distribution that appeared to be the best to correspond to the various studies\n"
   ]
  },
  {
   "cell_type": "code",
   "execution_count": 1,
   "metadata": {},
   "outputs": [
    {
     "name": "stdout",
     "output_type": "stream",
     "text": [
      "2020-03-18 15:43:18,073 - climada - DEBUG - Loading default config file: /Users/zeliestalhanske/anaconda3/climada_python-1.3.1/climada/conf/defaults.conf\n"
     ]
    }
   ],
   "source": [
    "import numpy as np\n",
    "import math\n",
    "import pandas as pd\n",
    "from pandas import DataFrame\n",
    "import os\n",
    "import matplotlib.pyplot as plt\n",
    "from scipy.optimize import curve_fit\n",
    "from climada.entity import ImpactFunc, ImpactFuncSet\n",
    "import sys\n",
    "sys.path.append('../../src/write_entities/')\n",
    "\n",
    "from define_if import sigmoid\n",
    "from define_if import impact_functions_random\n"
   ]
  },
  {
   "cell_type": "code",
   "execution_count": null,
   "metadata": {},
   "outputs": [],
   "source": [
    "colors=['black','orange','red','green']\n",
    "n = 1000\n",
    "x = range(20,40)\n",
    "\n",
    "###########################################################################################################\n",
    "\n",
    "file_low     = pd.read_csv(\"../../input_data/impact_functions/impact_low.csv\") \n",
    "studies_low  = ['Seppanen 2006','Graph Zivin 2018', 'Park 2017', 'Almas 2019']\n",
    "\n",
    "\n",
    "fig,ax       = plt.subplots(figsize=(4, 3))\n",
    "ax.set_xlim(22, 40)\n",
    "\n",
    "c_=0\n",
    "for s_ in studies_low:\n",
    "    ax.scatter(file_low['wbgt'], file_low[s_],s=4,label=s_, color = colors[c_])\n",
    "    c_=c_+1\n",
    "    \n",
    "for n_ in range(n):\n",
    "    function_low = impact_functions_random(file_low,'low',True)\n",
    "    y = sigmoid(x, *function_low)\n",
    "    \n",
    "    ax.plot(x,y,alpha=0.02,color='steelblue')\n",
    "    \n",
    "ax.set_xlabel('WBGT [$^\\circ$C]')\n",
    "ax.set_ylabel('Productivity Loss [%]')\n",
    "#ax.set_title('Low Physical Activity')\n",
    "ax.legend()\n",
    "plt.savefig('../figures/impact_functions_low.pdf',bbox_inches='tight')   \n",
    "\n",
    "##########################################################################################################    \n",
    "    \n",
    "file_moderate    = pd.read_csv(\"../../input_data/impact_functions/impact_moderate.csv\") \n",
    "studies_moderate = ['Sahu 2013','Wyndham 1969','Kjellstrom 2009']    \n",
    "\n",
    "fig,ax           = plt.subplots(figsize=(4, 3))   \n",
    "ax.set_xlim(22, 40)\n",
    "\n",
    "for n_ in range(n):\n",
    "\n",
    "    function_moderate = impact_functions_random(file_moderate,'moderate',True)\n",
    "    y                 = sigmoid(x, *function_moderate)\n",
    "    \n",
    "    ax.plot(x,y,alpha=0.02,color='steelblue')\n",
    "\n",
    "    \n",
    "c_=0\n",
    "    \n",
    "for s_ in studies_moderate:\n",
    "    ax.scatter(file_moderate['wbgt'], file_moderate[s_],s=4,label=s_,color=colors[c_])\n",
    "    c_=c_+1   \n",
    "    \n",
    "ax.set_xlabel('WBGT [$^\\circ$C]')\n",
    "ax.set_ylabel('Productivity Loss [%]')\n",
    "#ax.set_title('Moderate Physical Activity')\n",
    "ax.legend()\n",
    "plt.savefig('../figures/impact_functions_moderate.pdf',bbox_inches='tight')   \n",
    "   \n",
    "##########################################################################################################\n",
    "\n",
    "file_high     = pd.read_csv(\"../../input_data/impact_functions/impact_high.csv\") \n",
    "studies_high  = ['Sahu 2013','Kjellstrom 2009']     \n",
    "fig,ax        = plt.subplots(figsize=(4, 3))\n",
    "ax.set_xlim(22, 40)\n",
    "\n",
    "for n_ in range(n):\n",
    "\n",
    "    function_high     = impact_functions_random(file_high,'high',True)\n",
    "    y                 = sigmoid(x, *function_high)\n",
    "    \n",
    "    ax.plot(x,y,alpha = 0.02,color='steelblue')\n",
    "    \n",
    "for s_ in studies_high:\n",
    "    ax.scatter(file_high['wbgt'], file_high[s_],s=4,label=s_)\n",
    "    \n",
    "ax.set_xlabel('WBGT [$^\\circ$C]')\n",
    "ax.set_ylabel('Productivity Loss [%]')\n",
    "#ax.set_title('High Physical Activity')\n",
    "ax.legend()\n",
    "plt.savefig('../figures/impact_functions_high.pdf',bbox_inches='tight')   \n",
    "#########################################################################################################\n",
    "\n"
   ]
  }
 ],
 "metadata": {
  "kernelspec": {
   "display_name": "Python 3",
   "language": "python",
   "name": "python3"
  },
  "language_info": {
   "codemirror_mode": {
    "name": "ipython",
    "version": 3
   },
   "file_extension": ".py",
   "mimetype": "text/x-python",
   "name": "python",
   "nbconvert_exporter": "python",
   "pygments_lexer": "ipython3",
   "version": "3.7.3"
  }
 },
 "nbformat": 4,
 "nbformat_minor": 2
}
